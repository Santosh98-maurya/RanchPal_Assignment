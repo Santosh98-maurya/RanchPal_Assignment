{
 "cells": [
  {
   "cell_type": "code",
   "execution_count": 1,
   "metadata": {},
   "outputs": [],
   "source": [
    "import pandas as pd"
   ]
  },
  {
   "cell_type": "code",
   "execution_count": 2,
   "metadata": {},
   "outputs": [],
   "source": [
    "df_1=pd.read_csv(\"C:\\\\Users\\\\asus\\\\Desktop\\\\Assignment\\\\E1_train.csv\")\n",
    "df_2=pd.read_csv(\"C:\\\\Users\\\\asus\\\\Desktop\\\\Assignment\\\\D2_train.csv\")\n",
    "df_3=pd.read_csv(\"C:\\\\Users\\\\asus\\\\Desktop\\\\Assignment\\\\W3_train.csv\")\n",
    "df_4=pd.read_csv(\"C:\\\\Users\\\\asus\\\\Desktop\\\\Assignment\\\\S4_train.csv\")\n",
    "df_5=pd.read_csv(\"C:\\\\Users\\\\asus\\\\Desktop\\\\Assignment\\\\L5_train.csv\")\n",
    "df_6=pd.read_csv(\"C:\\\\Users\\\\asus\\\\Desktop\\\\Assignment\\\\RS6_train.csv\")\n",
    "df_7=pd.read_csv(\"C:\\\\Users\\\\asus\\\\Desktop\\\\Assignment\\\\RL7_train.csv\")\n",
    "df_8=pd.read_csv(\"C:\\\\Users\\\\asus\\\\Desktop\\\\Assignment\\\\G8_train.csv\")\n",
    "df_9=pd.read_csv(\"C:\\\\Users\\\\asus\\\\Desktop\\\\Assignment\\\\I9_train.csv\")"
   ]
  },
  {
   "cell_type": "code",
   "execution_count": null,
   "metadata": {},
   "outputs": [],
   "source": []
  },
  {
   "cell_type": "markdown",
   "metadata": {},
   "source": [
    "#  check all datasets shape"
   ]
  },
  {
   "cell_type": "code",
   "execution_count": 3,
   "metadata": {},
   "outputs": [
    {
     "data": {
      "text/plain": [
       "(3405702, 11)"
      ]
     },
     "execution_count": 3,
     "metadata": {},
     "output_type": "execute_result"
    }
   ],
   "source": [
    "df_1.shape"
   ]
  },
  {
   "cell_type": "code",
   "execution_count": 4,
   "metadata": {},
   "outputs": [
    {
     "data": {
      "text/plain": [
       "(54439, 11)"
      ]
     },
     "execution_count": 4,
     "metadata": {},
     "output_type": "execute_result"
    }
   ],
   "source": [
    "df_2.shape"
   ]
  },
  {
   "cell_type": "code",
   "execution_count": 5,
   "metadata": {},
   "outputs": [
    {
     "data": {
      "text/plain": [
       "(145369, 11)"
      ]
     },
     "execution_count": 5,
     "metadata": {},
     "output_type": "execute_result"
    }
   ],
   "source": [
    "df_3.shape"
   ]
  },
  {
   "cell_type": "code",
   "execution_count": 6,
   "metadata": {},
   "outputs": [
    {
     "data": {
      "text/plain": [
       "(2539806, 11)"
      ]
     },
     "execution_count": 6,
     "metadata": {},
     "output_type": "execute_result"
    }
   ],
   "source": [
    "df_4.shape"
   ]
  },
  {
   "cell_type": "code",
   "execution_count": 7,
   "metadata": {},
   "outputs": [
    {
     "data": {
      "text/plain": [
       "(1711687, 11)"
      ]
     },
     "execution_count": 7,
     "metadata": {},
     "output_type": "execute_result"
    }
   ],
   "source": [
    "df_5.shape"
   ]
  },
  {
   "cell_type": "code",
   "execution_count": 8,
   "metadata": {},
   "outputs": [
    {
     "data": {
      "text/plain": [
       "(1703683, 11)"
      ]
     },
     "execution_count": 8,
     "metadata": {},
     "output_type": "execute_result"
    }
   ],
   "source": [
    "df_6.shape"
   ]
  },
  {
   "cell_type": "code",
   "execution_count": 9,
   "metadata": {},
   "outputs": [
    {
     "data": {
      "text/plain": [
       "(1928968, 11)"
      ]
     },
     "execution_count": 9,
     "metadata": {},
     "output_type": "execute_result"
    }
   ],
   "source": [
    "df_7.shape"
   ]
  },
  {
   "cell_type": "code",
   "execution_count": 10,
   "metadata": {},
   "outputs": [
    {
     "data": {
      "text/plain": [
       "(368607, 11)"
      ]
     },
     "execution_count": 10,
     "metadata": {},
     "output_type": "execute_result"
    }
   ],
   "source": [
    "df_8.shape"
   ]
  },
  {
   "cell_type": "code",
   "execution_count": 11,
   "metadata": {},
   "outputs": [
    {
     "data": {
      "text/plain": [
       "(405263, 11)"
      ]
     },
     "execution_count": 11,
     "metadata": {},
     "output_type": "execute_result"
    }
   ],
   "source": [
    "df_9.shape"
   ]
  },
  {
   "cell_type": "markdown",
   "metadata": {},
   "source": [
    "# Take Sample Of All Dataset With Respect To df_2"
   ]
  },
  {
   "cell_type": "code",
   "execution_count": 12,
   "metadata": {},
   "outputs": [],
   "source": [
    "df1_new=df_1[:54439]"
   ]
  },
  {
   "cell_type": "code",
   "execution_count": 13,
   "metadata": {},
   "outputs": [],
   "source": [
    "df3_new=df_3[:54439]"
   ]
  },
  {
   "cell_type": "code",
   "execution_count": 14,
   "metadata": {},
   "outputs": [],
   "source": [
    "df4_new=df_4[:54439]"
   ]
  },
  {
   "cell_type": "code",
   "execution_count": 15,
   "metadata": {},
   "outputs": [],
   "source": [
    "df5_new=df_5[:54439]"
   ]
  },
  {
   "cell_type": "code",
   "execution_count": 16,
   "metadata": {},
   "outputs": [],
   "source": [
    "df6_new=df_6[:54439]"
   ]
  },
  {
   "cell_type": "code",
   "execution_count": 17,
   "metadata": {},
   "outputs": [],
   "source": [
    "df7_new=df_7[:54439]"
   ]
  },
  {
   "cell_type": "code",
   "execution_count": 18,
   "metadata": {},
   "outputs": [],
   "source": [
    "df8_new=df_8[:54439]"
   ]
  },
  {
   "cell_type": "code",
   "execution_count": 19,
   "metadata": {},
   "outputs": [],
   "source": [
    "df9_new=df_9[:54439]"
   ]
  },
  {
   "cell_type": "markdown",
   "metadata": {},
   "source": [
    "# Concatenation of  All Sample And Make a Single dataset df"
   ]
  },
  {
   "cell_type": "code",
   "execution_count": 20,
   "metadata": {},
   "outputs": [
    {
     "data": {
      "text/html": [
       "<div>\n",
       "<style scoped>\n",
       "    .dataframe tbody tr th:only-of-type {\n",
       "        vertical-align: middle;\n",
       "    }\n",
       "\n",
       "    .dataframe tbody tr th {\n",
       "        vertical-align: top;\n",
       "    }\n",
       "\n",
       "    .dataframe thead th {\n",
       "        text-align: right;\n",
       "    }\n",
       "</style>\n",
       "<table border=\"1\" class=\"dataframe\">\n",
       "  <thead>\n",
       "    <tr style=\"text-align: right;\">\n",
       "      <th></th>\n",
       "      <th>time</th>\n",
       "      <th>acc_x</th>\n",
       "      <th>acc_y</th>\n",
       "      <th>acc_z</th>\n",
       "      <th>gyr_x</th>\n",
       "      <th>gyr_y</th>\n",
       "      <th>gyr_z</th>\n",
       "      <th>mag_x</th>\n",
       "      <th>mag_y</th>\n",
       "      <th>mag_z</th>\n",
       "      <th>label</th>\n",
       "    </tr>\n",
       "  </thead>\n",
       "  <tbody>\n",
       "    <tr>\n",
       "      <th>0</th>\n",
       "      <td>1628308980</td>\n",
       "      <td>0.376465</td>\n",
       "      <td>0.860840</td>\n",
       "      <td>-0.114746</td>\n",
       "      <td>22.521973</td>\n",
       "      <td>-18.981934</td>\n",
       "      <td>15.075683</td>\n",
       "      <td>-297.0</td>\n",
       "      <td>1432.5</td>\n",
       "      <td>508.5</td>\n",
       "      <td>1</td>\n",
       "    </tr>\n",
       "    <tr>\n",
       "      <th>1</th>\n",
       "      <td>1628308980</td>\n",
       "      <td>0.325684</td>\n",
       "      <td>0.889160</td>\n",
       "      <td>-0.103516</td>\n",
       "      <td>25.085449</td>\n",
       "      <td>3.417969</td>\n",
       "      <td>12.756348</td>\n",
       "      <td>-292.5</td>\n",
       "      <td>1447.5</td>\n",
       "      <td>520.5</td>\n",
       "      <td>1</td>\n",
       "    </tr>\n",
       "    <tr>\n",
       "      <th>2</th>\n",
       "      <td>1628308980</td>\n",
       "      <td>0.269531</td>\n",
       "      <td>0.931641</td>\n",
       "      <td>-0.067383</td>\n",
       "      <td>24.353027</td>\n",
       "      <td>20.019531</td>\n",
       "      <td>11.352539</td>\n",
       "      <td>-297.0</td>\n",
       "      <td>1423.5</td>\n",
       "      <td>523.5</td>\n",
       "      <td>1</td>\n",
       "    </tr>\n",
       "    <tr>\n",
       "      <th>3</th>\n",
       "      <td>1628308980</td>\n",
       "      <td>0.225098</td>\n",
       "      <td>0.958008</td>\n",
       "      <td>-0.031250</td>\n",
       "      <td>19.104004</td>\n",
       "      <td>23.803711</td>\n",
       "      <td>7.019043</td>\n",
       "      <td>-297.0</td>\n",
       "      <td>1431.0</td>\n",
       "      <td>523.5</td>\n",
       "      <td>1</td>\n",
       "    </tr>\n",
       "    <tr>\n",
       "      <th>4</th>\n",
       "      <td>1628308980</td>\n",
       "      <td>0.204590</td>\n",
       "      <td>0.961426</td>\n",
       "      <td>-0.001953</td>\n",
       "      <td>15.258789</td>\n",
       "      <td>23.193359</td>\n",
       "      <td>2.807617</td>\n",
       "      <td>-286.5</td>\n",
       "      <td>1431.0</td>\n",
       "      <td>538.5</td>\n",
       "      <td>1</td>\n",
       "    </tr>\n",
       "  </tbody>\n",
       "</table>\n",
       "</div>"
      ],
      "text/plain": [
       "         time     acc_x     acc_y     acc_z      gyr_x      gyr_y      gyr_z  \\\n",
       "0  1628308980  0.376465  0.860840 -0.114746  22.521973 -18.981934  15.075683   \n",
       "1  1628308980  0.325684  0.889160 -0.103516  25.085449   3.417969  12.756348   \n",
       "2  1628308980  0.269531  0.931641 -0.067383  24.353027  20.019531  11.352539   \n",
       "3  1628308980  0.225098  0.958008 -0.031250  19.104004  23.803711   7.019043   \n",
       "4  1628308980  0.204590  0.961426 -0.001953  15.258789  23.193359   2.807617   \n",
       "\n",
       "   mag_x   mag_y  mag_z  label  \n",
       "0 -297.0  1432.5  508.5      1  \n",
       "1 -292.5  1447.5  520.5      1  \n",
       "2 -297.0  1423.5  523.5      1  \n",
       "3 -297.0  1431.0  523.5      1  \n",
       "4 -286.5  1431.0  538.5      1  "
      ]
     },
     "execution_count": 20,
     "metadata": {},
     "output_type": "execute_result"
    }
   ],
   "source": [
    "df=pd.concat([df1_new,  df_2, df3_new, df4_new, df5_new, df6_new, df7_new, df8_new, df9_new], axis=0)\n",
    "df.head()"
   ]
  },
  {
   "cell_type": "code",
   "execution_count": 21,
   "metadata": {},
   "outputs": [
    {
     "name": "stdout",
     "output_type": "stream",
     "text": [
      "<class 'pandas.core.frame.DataFrame'>\n",
      "Int64Index: 489951 entries, 0 to 54438\n",
      "Data columns (total 11 columns):\n",
      "time     489951 non-null int64\n",
      "acc_x    489951 non-null float64\n",
      "acc_y    489951 non-null float64\n",
      "acc_z    489951 non-null float64\n",
      "gyr_x    489951 non-null float64\n",
      "gyr_y    489951 non-null float64\n",
      "gyr_z    489951 non-null float64\n",
      "mag_x    489951 non-null float64\n",
      "mag_y    489951 non-null float64\n",
      "mag_z    489951 non-null float64\n",
      "label    489951 non-null int64\n",
      "dtypes: float64(9), int64(2)\n",
      "memory usage: 44.9 MB\n"
     ]
    }
   ],
   "source": [
    "df.info()"
   ]
  },
  {
   "cell_type": "markdown",
   "metadata": {},
   "source": [
    "# Create Variable x and y"
   ]
  },
  {
   "cell_type": "code",
   "execution_count": 22,
   "metadata": {},
   "outputs": [],
   "source": [
    "x=df[[\"acc_x\",\"acc_y\",\"acc_z\",\"gyr_x\",\"gyr_y\",\"gyr_z\",\"mag_x\",\"mag_y\",\"mag_z\"]]"
   ]
  },
  {
   "cell_type": "code",
   "execution_count": 23,
   "metadata": {},
   "outputs": [],
   "source": [
    "y=df[\"label\"]"
   ]
  },
  {
   "cell_type": "markdown",
   "metadata": {},
   "source": [
    "# Split The Data Test And Train Sample"
   ]
  },
  {
   "cell_type": "code",
   "execution_count": 24,
   "metadata": {},
   "outputs": [],
   "source": [
    "from sklearn.model_selection import train_test_split"
   ]
  },
  {
   "cell_type": "code",
   "execution_count": 25,
   "metadata": {},
   "outputs": [],
   "source": [
    "x_train, x_test, y_train, y_test=train_test_split(x,y, train_size=.7)"
   ]
  },
  {
   "cell_type": "markdown",
   "metadata": {},
   "source": [
    "# Use Random Forest Model For Classify The Data"
   ]
  },
  {
   "cell_type": "code",
   "execution_count": 26,
   "metadata": {},
   "outputs": [],
   "source": [
    "from sklearn.ensemble import RandomForestClassifier"
   ]
  },
  {
   "cell_type": "code",
   "execution_count": 27,
   "metadata": {},
   "outputs": [],
   "source": [
    "model=RandomForestClassifier(n_estimators=10)"
   ]
  },
  {
   "cell_type": "code",
   "execution_count": 28,
   "metadata": {},
   "outputs": [
    {
     "data": {
      "text/plain": [
       "RandomForestClassifier(bootstrap=True, class_weight=None, criterion='gini',\n",
       "                       max_depth=None, max_features='auto', max_leaf_nodes=None,\n",
       "                       min_impurity_decrease=0.0, min_impurity_split=None,\n",
       "                       min_samples_leaf=1, min_samples_split=2,\n",
       "                       min_weight_fraction_leaf=0.0, n_estimators=10,\n",
       "                       n_jobs=None, oob_score=False, random_state=None,\n",
       "                       verbose=0, warm_start=False)"
      ]
     },
     "execution_count": 28,
     "metadata": {},
     "output_type": "execute_result"
    }
   ],
   "source": [
    "model.fit(x_train, y_train)"
   ]
  },
  {
   "cell_type": "code",
   "execution_count": 29,
   "metadata": {},
   "outputs": [],
   "source": [
    "y_pred=model.predict(x_test)"
   ]
  },
  {
   "cell_type": "markdown",
   "metadata": {},
   "source": [
    "# F1_Score of model"
   ]
  },
  {
   "cell_type": "code",
   "execution_count": 30,
   "metadata": {},
   "outputs": [],
   "source": [
    "from sklearn.metrics import f1_score, classification_report"
   ]
  },
  {
   "cell_type": "code",
   "execution_count": 31,
   "metadata": {},
   "outputs": [
    {
     "data": {
      "text/plain": [
       "0.917945167808268"
      ]
     },
     "execution_count": 31,
     "metadata": {},
     "output_type": "execute_result"
    }
   ],
   "source": [
    "f1_score(y_pred, y_test, average='weighted')"
   ]
  },
  {
   "cell_type": "code",
   "execution_count": 32,
   "metadata": {},
   "outputs": [
    {
     "name": "stdout",
     "output_type": "stream",
     "text": [
      "              precision    recall  f1-score   support\n",
      "\n",
      "           1       0.90      0.94      0.92     16199\n",
      "           2       0.99      0.99      0.99     16254\n",
      "           3       0.98      0.96      0.97     16282\n",
      "           4       0.91      0.90      0.90     16546\n",
      "           5       0.82      0.87      0.84     16409\n",
      "           6       0.94      0.93      0.94     16374\n",
      "           7       0.84      0.83      0.84     16254\n",
      "           8       0.90      0.89      0.90     16342\n",
      "           9       0.99      0.95      0.97     16326\n",
      "\n",
      "    accuracy                           0.92    146986\n",
      "   macro avg       0.92      0.92      0.92    146986\n",
      "weighted avg       0.92      0.92      0.92    146986\n",
      "\n"
     ]
    }
   ],
   "source": [
    "print(classification_report(y_test, y_pred))"
   ]
  },
  {
   "cell_type": "code",
   "execution_count": null,
   "metadata": {},
   "outputs": [],
   "source": []
  }
 ],
 "metadata": {
  "kernelspec": {
   "display_name": "Python 3",
   "language": "python",
   "name": "python3"
  },
  "language_info": {
   "codemirror_mode": {
    "name": "ipython",
    "version": 3
   },
   "file_extension": ".py",
   "mimetype": "text/x-python",
   "name": "python",
   "nbconvert_exporter": "python",
   "pygments_lexer": "ipython3",
   "version": "3.7.3"
  }
 },
 "nbformat": 4,
 "nbformat_minor": 2
}
